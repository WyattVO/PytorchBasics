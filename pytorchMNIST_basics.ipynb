{
  "nbformat": 4,
  "nbformat_minor": 0,
  "metadata": {
    "colab": {
      "provenance": [],
      "gpuType": "T4",
      "authorship_tag": "ABX9TyODvFlB1q2n9io+DM5DV+mn",
      "include_colab_link": true
    },
    "kernelspec": {
      "name": "python3",
      "display_name": "Python 3"
    },
    "language_info": {
      "name": "python"
    },
    "accelerator": "GPU"
  },
  "cells": [
    {
      "cell_type": "markdown",
      "metadata": {
        "id": "view-in-github",
        "colab_type": "text"
      },
      "source": [
        "<a href=\"https://colab.research.google.com/github/WyattVO/PytorchBasics/blob/main/pytorchMNIST_basics.ipynb\" target=\"_parent\"><img src=\"https://colab.research.google.com/assets/colab-badge.svg\" alt=\"Open In Colab\"/></a>"
      ]
    },
    {
      "cell_type": "code",
      "execution_count": 4,
      "metadata": {
        "colab": {
          "base_uri": "https://localhost:8080/"
        },
        "id": "JvtNkj-OHtyy",
        "outputId": "8d4b810f-f39b-4024-e3c2-2ec0010ae9bb"
      },
      "outputs": [
        {
          "output_type": "stream",
          "name": "stdout",
          "text": [
            "Batch 0000  Loss: 2.3166\n",
            "Batch 0200  Loss: 0.5291\n",
            "Batch 0400  Loss: 0.5725\n",
            "Batch 0600  Loss: 0.2686\n",
            "Batch 0800  Loss: 0.2859\n"
          ]
        }
      ],
      "source": [
        "# data->model->loss->optimizer->backdrop->update.\n",
        "\n",
        "\n",
        "import torch #pytorch\n",
        "from torchvision import datasets, transforms\n",
        "from torch.utils.data import DataLoader\n",
        "from torch import nn\n",
        "\n",
        "# 1. Load MNIST dataset\n",
        "transform = transforms.ToTensor()\n",
        "\n",
        "train_dataset = datasets.MNIST(\n",
        "    root=\"./data\", #where to store data.\n",
        "    train=True,\n",
        "    transform=transform,\n",
        "    download=True\n",
        ")\n",
        "\n",
        "train_loader = DataLoader(\n",
        "    train_dataset,\n",
        "    batch_size=64,\n",
        "    shuffle=True\n",
        ")\n",
        "\n",
        "# 2. Define a simple model: Linear -> ReLU -> Linear\n",
        "# MNIST images are 1 x 28 x 28, so input size is 28*28 = 784\n",
        "model = nn.Sequential(\n",
        "    nn.Flatten(),           # [B,1,28,28] -> [B,784] Images are 28x28 then flattening to 28x28. 1D vector.\n",
        "    nn.Linear(784, 128), #Each pixel to a neuron.\n",
        "    nn.ReLU(), #Rectified Linear Unit. This is bascially x<0 goes to 0.\n",
        "    nn.Linear(128, 10)      # 128 neurons to 10 outputs. MNIST 0-9. logits to classify loss.\n",
        ")\n",
        "\n",
        "# 3. Loss and optimizer\n",
        "loss_fn = nn.CrossEntropyLoss()#logits into probability/penalizes wrong outcomes.\n",
        "optimizer = torch.optim.SGD(model.parameters(), lr=0.05)\n",
        "#moves weight by how much for each wrong/right. 0.05 was better than 0.1.\n",
        "\n",
        "# 4. Training loop\n",
        "model.train()\n",
        "for batch_idx, (images, labels) in enumerate(train_loader):\n",
        "    # forward pass\n",
        "    logits = model(images)              # shape [B,10] from the prior setup.\n",
        "    loss = loss_fn(logits, labels)\n",
        "\n",
        "    # backward pass\n",
        "    loss.backward()#reflects on outcome.\n",
        "\n",
        "    # step\n",
        "    optimizer.step()\n",
        "\n",
        "    # zero gradients\n",
        "    optimizer.zero_grad()\n",
        "\n",
        "    # print loss every 200 batches\n",
        "    if batch_idx % 200 == 0:\n",
        "        print(f\"Batch {batch_idx:04d}  Loss: {loss.item():.4f}\")\\\n",
        "\n"
      ]
    }
  ]
}